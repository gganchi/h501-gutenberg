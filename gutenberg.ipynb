{
 "cells": [
  {
   "cell_type": "code",
   "execution_count": 1,
   "id": "9ce68db8",
   "metadata": {},
   "outputs": [
    {
     "name": "stdout",
     "output_type": "stream",
     "text": [
      "\n",
      "# conda environments:\n",
      "#\n",
      "base                   C:\\Users\\guyon\\miniconda3\n",
      "h501-gutenberg       * C:\\Users\\guyon\\miniconda3\\envs\\h501-gutenberg\n",
      "nflpy312               C:\\Users\\guyon\\miniconda3\\envs\\nflpy312\n",
      "test1                  C:\\Users\\guyon\\miniconda3\\envs\\test1\n",
      "\n"
     ]
    }
   ],
   "source": [
    "!conda env list"
   ]
  }
 ],
 "metadata": {
  "kernelspec": {
   "display_name": "h501-gutenberg",
   "language": "python",
   "name": "python3"
  },
  "language_info": {
   "codemirror_mode": {
    "name": "ipython",
    "version": 3
   },
   "file_extension": ".py",
   "mimetype": "text/x-python",
   "name": "python",
   "nbconvert_exporter": "python",
   "pygments_lexer": "ipython3",
   "version": "3.13.5"
  }
 },
 "nbformat": 4,
 "nbformat_minor": 5
}
