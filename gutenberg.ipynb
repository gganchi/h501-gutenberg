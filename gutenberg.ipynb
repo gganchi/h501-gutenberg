{
 "cells": [
  {
   "cell_type": "code",
   "execution_count": 1,
   "id": "9ce68db8",
   "metadata": {},
   "outputs": [
    {
     "name": "stdout",
     "output_type": "stream",
     "text": [
      "\n",
      "# conda environments:\n",
      "#\n",
      "base                   C:\\Users\\guyon\\miniconda3\n",
      "h501-gutenberg       * C:\\Users\\guyon\\miniconda3\\envs\\h501-gutenberg\n",
      "nflpy312               C:\\Users\\guyon\\miniconda3\\envs\\nflpy312\n",
      "test1                  C:\\Users\\guyon\\miniconda3\\envs\\test1\n",
      "\n"
     ]
    }
   ],
   "source": [
    "!conda env list"
   ]
  },
  {
   "cell_type": "code",
   "execution_count": null,
   "id": "588c1c6b",
   "metadata": {},
   "outputs": [
    {
     "ename": "ImportError",
     "evalue": "cannot import name 'list_authors' from 'tt_gutenberg.authors' (c:\\Users\\guyon\\OneDrive\\Desktop\\Projects\\h501-gutenberg\\tt_gutenberg\\authors.py)",
     "output_type": "error",
     "traceback": [
      "\u001b[31m---------------------------------------------------------------------------\u001b[39m",
      "\u001b[31mImportError\u001b[39m                               Traceback (most recent call last)",
      "\u001b[36mCell\u001b[39m\u001b[36m \u001b[39m\u001b[32mIn[9]\u001b[39m\u001b[32m, line 1\u001b[39m\n\u001b[32m----> \u001b[39m\u001b[32m1\u001b[39m \u001b[38;5;28;01mfrom\u001b[39;00m\u001b[38;5;250m \u001b[39m\u001b[34;01mtt_gutenberg\u001b[39;00m\u001b[34;01m.\u001b[39;00m\u001b[34;01mauthors\u001b[39;00m\u001b[38;5;250m \u001b[39m\u001b[38;5;28;01mimport\u001b[39;00m list_authors\n\u001b[32m      3\u001b[39m list_authors(by_languages=\u001b[38;5;28;01mTrue\u001b[39;00m, alias=\u001b[38;5;28;01mTrue\u001b[39;00m)\n",
      "\u001b[31mImportError\u001b[39m: cannot import name 'list_authors' from 'tt_gutenberg.authors' (c:\\Users\\guyon\\OneDrive\\Desktop\\Projects\\h501-gutenberg\\tt_gutenberg\\authors.py)"
     ]
    }
   ],
   "source": [
    "from tt_gutenberg.authors import *\n",
    "\n",
    "list_authors(by_languages=True, alias=True)\n"
   ]
  }
 ],
 "metadata": {
  "kernelspec": {
   "display_name": "h501-gutenberg",
   "language": "python",
   "name": "python3"
  },
  "language_info": {
   "codemirror_mode": {
    "name": "ipython",
    "version": 3
   },
   "file_extension": ".py",
   "mimetype": "text/x-python",
   "name": "python",
   "nbconvert_exporter": "python",
   "pygments_lexer": "ipython3",
   "version": "3.13.5"
  }
 },
 "nbformat": 4,
 "nbformat_minor": 5
}
